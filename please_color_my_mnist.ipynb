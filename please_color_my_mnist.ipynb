{
  "nbformat": 4,
  "nbformat_minor": 0,
  "metadata": {
    "colab": {
      "provenance": []
    },
    "kernelspec": {
      "name": "python3",
      "display_name": "Python 3"
    },
    "language_info": {
      "name": "python"
    }
  },
  "cells": [
    {
      "cell_type": "code",
      "source": [
        "import torch"
      ],
      "metadata": {
        "id": "xcsV7u6jUDbK"
      },
      "execution_count": 8,
      "outputs": []
    },
    {
      "cell_type": "code",
      "execution_count": 9,
      "metadata": {
        "id": "v8ft_f72efeM"
      },
      "outputs": [],
      "source": [
        "import h5py\n",
        "test_nm = 'drive/MyDrive/3d_mnist/full_dataset_vectors.h5'\n",
        "hf = h5py.File(test_nm)\n"
      ]
    },
    {
      "cell_type": "code",
      "source": [
        "with h5py.File(test_nm) as dataset:\n",
        "    x_train = dataset[\"X_train\"][:]\n",
        "    x_test = dataset[\"X_test\"][:]\n",
        "    y_train = dataset[\"y_train\"][:]\n",
        "    y_test = dataset[\"y_test\"][:]"
      ],
      "metadata": {
        "id": "Ddatseopgv5W"
      },
      "execution_count": 10,
      "outputs": []
    },
    {
      "cell_type": "code",
      "source": [
        "x_train.shape"
      ],
      "metadata": {
        "colab": {
          "base_uri": "https://localhost:8080/"
        },
        "id": "ExOpNsZSoCVw",
        "outputId": "0101e2d5-72ac-4479-fdcb-b0926ab62a8b"
      },
      "execution_count": 11,
      "outputs": [
        {
          "output_type": "execute_result",
          "data": {
            "text/plain": [
              "(10000, 4096)"
            ]
          },
          "metadata": {},
          "execution_count": 11
        }
      ]
    },
    {
      "cell_type": "code",
      "source": [
        "import colorsys\n",
        "from tqdm import tqdm\n",
        "colorsys.rgb_to_hsv([0, .4], [0, .4], [0, .4]), colorsys.hsv_to_rgb(0.25, 0.5, 0.4)"
      ],
      "metadata": {
        "colab": {
          "base_uri": "https://localhost:8080/"
        },
        "id": "7TKr_92ApxTV",
        "outputId": "4a7d43f5-8c09-499d-cefc-4214b3d422cf"
      },
      "execution_count": 12,
      "outputs": [
        {
          "output_type": "execute_result",
          "data": {
            "text/plain": [
              "((0.0, 0.0, [0, 0.4]), (0.30000000000000004, 0.4, 0.2))"
            ]
          },
          "metadata": {},
          "execution_count": 12
        }
      ]
    },
    {
      "cell_type": "code",
      "source": [
        "a = torch.tensor([10, 4, 0])\n",
        "a % 4"
      ],
      "metadata": {
        "colab": {
          "base_uri": "https://localhost:8080/"
        },
        "id": "uINsoQ03VLP_",
        "outputId": "22bf2b35-165e-4710-d4ec-3a5ab7209b75"
      },
      "execution_count": 13,
      "outputs": [
        {
          "output_type": "execute_result",
          "data": {
            "text/plain": [
              "tensor([2, 0, 0])"
            ]
          },
          "metadata": {},
          "execution_count": 13
        }
      ]
    },
    {
      "cell_type": "code",
      "source": [
        "from skimage import color\n",
        "# skimage.color.hsv2rgb("
      ],
      "metadata": {
        "id": "cVxIQQsNU3_t"
      },
      "execution_count": 14,
      "outputs": []
    },
    {
      "cell_type": "code",
      "source": [],
      "metadata": {
        "colab": {
          "base_uri": "https://localhost:8080/",
          "height": 166
        },
        "id": "wu7O7b-hWxPx",
        "outputId": "fe84cd43-def5-4541-c7f1-b32369f2e3d2"
      },
      "execution_count": 17,
      "outputs": [
        {
          "output_type": "error",
          "ename": "NameError",
          "evalue": "ignored",
          "traceback": [
            "\u001b[0;31m---------------------------------------------------------------------------\u001b[0m",
            "\u001b[0;31mNameError\u001b[0m                                 Traceback (most recent call last)",
            "\u001b[0;32m<ipython-input-17-aa59c7cbed10>\u001b[0m in \u001b[0;36m<module>\u001b[0;34m\u001b[0m\n\u001b[0;32m----> 1\u001b[0;31m \u001b[0mseeds\u001b[0m \u001b[0;34m=\u001b[0m \u001b[0mnp\u001b[0m\u001b[0;34m.\u001b[0m\u001b[0mrandom\u001b[0m\u001b[0;34m.\u001b[0m\u001b[0mrand\u001b[0m\u001b[0;34m(\u001b[0m\u001b[0minit_shape\u001b[0m\u001b[0;34m[\u001b[0m\u001b[0;36m0\u001b[0m\u001b[0;34m]\u001b[0m\u001b[0;34m,\u001b[0m \u001b[0;36m2\u001b[0m\u001b[0;34m)\u001b[0m\u001b[0;34m\u001b[0m\u001b[0;34m\u001b[0m\u001b[0m\n\u001b[0m",
            "\u001b[0;31mNameError\u001b[0m: name 'init_shape' is not defined"
          ]
        }
      ]
    },
    {
      "cell_type": "code",
      "source": [
        "templ = x_train[0].reshape(1, 16, 16, 16)[0, 8].reshape(1, 16, 16)\n",
        "\n",
        "from functools import partial\n",
        "import numpy as np\n",
        "\n",
        "\n",
        "def get_colored(imgs, thr = None):\n",
        "    assert len(imgs.shape) == 2\n",
        "    init_shape = imgs.shape\n",
        "    imgs = torch.unsqueeze(imgs, dim=-1)\n",
        "    \n",
        "\n",
        "    result = np.zeros((*imgs.shape, 3), float) \n",
        "\n",
        "    seeds = torch.Tensor(np.random.uniform(size=(init_shape[0], 2)))\n",
        "\n",
        "    seeds = torch.broadcast_to(seeds, (*init_shape[::-1], 2))\n",
        "    seeds = torch.permute(seeds, [1, 0, 2])\n",
        "\n",
        "\n",
        "    result = torch.concat([seeds, imgs], dim=-1)\n",
        "\n",
        "    \n",
        "    result = torch.Tensor(color.hsv2rgb(result))\n",
        "    return result\n",
        "\n",
        "\n",
        "a = get_colored(torch.Tensor(templ.reshape(-1, 16 * 16)))"
      ],
      "metadata": {
        "colab": {
          "base_uri": "https://localhost:8080/"
        },
        "id": "SlT1Hx5NpxY9",
        "outputId": "7d72d852-ec59-4098-ee31-6674b79f4005"
      },
      "execution_count": 59,
      "outputs": [
        {
          "output_type": "stream",
          "name": "stdout",
          "text": [
            "torch.Size([1, 256, 1])\n",
            "torch.Size([1, 256, 2])\n"
          ]
        }
      ]
    },
    {
      "cell_type": "code",
      "source": [
        "a.shape"
      ],
      "metadata": {
        "colab": {
          "base_uri": "https://localhost:8080/"
        },
        "id": "lTUbOVHXpagG",
        "outputId": "1b34ab96-a2cd-40dc-f0ff-8f53cde73aa4"
      },
      "execution_count": 60,
      "outputs": [
        {
          "output_type": "execute_result",
          "data": {
            "text/plain": [
              "torch.Size([1, 256, 3])"
            ]
          },
          "metadata": {},
          "execution_count": 60
        }
      ]
    },
    {
      "cell_type": "code",
      "source": [
        "a"
      ],
      "metadata": {
        "id": "xdQY7VxQYKww"
      },
      "execution_count": null,
      "outputs": []
    },
    {
      "cell_type": "code",
      "source": [
        "import matplotlib.pyplot as plt\n",
        "\n",
        "plt.imshow(a.reshape(16, 16, 3))\n",
        "plt.show()"
      ],
      "metadata": {
        "colab": {
          "base_uri": "https://localhost:8080/",
          "height": 265
        },
        "id": "zNEfuGbtsC92",
        "outputId": "2f1cedf7-d968-4ea3-9a89-7eff832dd2ab"
      },
      "execution_count": 62,
      "outputs": [
        {
          "output_type": "display_data",
          "data": {
            "text/plain": [
              "<Figure size 432x288 with 1 Axes>"
            ],
            "image/png": "[encoded data removed]"
          },
          "metadata": {
            "needs_background": "light"
          }
        }
      ]
    },
    {
      "cell_type": "code",
      "source": [
        "ds_train_colored = get_colored(torch.Tensor(x_train))"
      ],
      "metadata": {
        "colab": {
          "base_uri": "https://localhost:8080/"
        },
        "id": "Lf_sJdtWsmRb",
        "outputId": "4e023e28-da96-4f15-ff96-d5bac4273a1d"
      },
      "execution_count": 63,
      "outputs": [
        {
          "output_type": "stream",
          "name": "stdout",
          "text": [
            "torch.Size([10000, 4096, 1])\n",
            "torch.Size([10000, 4096, 2])\n"
          ]
        }
      ]
    },
    {
      "cell_type": "code",
      "source": [
        "ds_test_colored = get_colored(x_test)"
      ],
      "metadata": {
        "colab": {
          "base_uri": "https://localhost:8080/"
        },
        "id": "ZaO61Q7KwPpV",
        "outputId": "df1ea3c9-f1ee-4ab5-cf7f-bb9cd37065e9"
      },
      "execution_count": null,
      "outputs": [
        {
          "output_type": "stream",
          "name": "stderr",
          "text": [
            "2000it [00:17, 117.58it/s]\n"
          ]
        }
      ]
    },
    {
      "cell_type": "code",
      "source": [
        "np.save('ds_train_colored.npy', ds_train_colored)\n",
        "np.save('ds_test_colored.npy', ds_test_colored)"
      ],
      "metadata": {
        "id": "e1dyBEVzwS4Z",
        "colab": {
          "base_uri": "https://localhost:8080/",
          "height": 184
        },
        "outputId": "92a83986-09f1-444e-907b-e4f5967f1966"
      },
      "execution_count": 64,
      "outputs": [
        {
          "output_type": "error",
          "ename": "NameError",
          "evalue": "ignored",
          "traceback": [
            "\u001b[0;31m---------------------------------------------------------------------------\u001b[0m",
            "\u001b[0;31mNameError\u001b[0m                                 Traceback (most recent call last)",
            "\u001b[0;32m<ipython-input-64-ba620deb96aa>\u001b[0m in \u001b[0;36m<module>\u001b[0;34m\u001b[0m\n\u001b[1;32m      1\u001b[0m \u001b[0mnp\u001b[0m\u001b[0;34m.\u001b[0m\u001b[0msave\u001b[0m\u001b[0;34m(\u001b[0m\u001b[0;34m'ds_train_colored.npy'\u001b[0m\u001b[0;34m,\u001b[0m \u001b[0mds_train_colored\u001b[0m\u001b[0;34m)\u001b[0m\u001b[0;34m\u001b[0m\u001b[0;34m\u001b[0m\u001b[0m\n\u001b[0;32m----> 2\u001b[0;31m \u001b[0mnp\u001b[0m\u001b[0;34m.\u001b[0m\u001b[0msave\u001b[0m\u001b[0;34m(\u001b[0m\u001b[0;34m'ds_test_colored.npy'\u001b[0m\u001b[0;34m,\u001b[0m \u001b[0mds_test_colored\u001b[0m\u001b[0;34m)\u001b[0m\u001b[0;34m\u001b[0m\u001b[0;34m\u001b[0m\u001b[0m\n\u001b[0m",
            "\u001b[0;31mNameError\u001b[0m: name 'ds_test_colored' is not defined"
          ]
        }
      ]
    },
    {
      "cell_type": "code",
      "source": [
        "temp = ds_train_colored[1322]\n",
        "plt.imshow(temp.reshape(16, 16, 16, 3)[7])"
      ],
      "metadata": {
        "colab": {
          "base_uri": "https://localhost:8080/",
          "height": 282
        },
        "id": "xDYXm7DZxO-c",
        "outputId": "704022b4-c0a0-4645-8232-c75a4971e920"
      },
      "execution_count": 71,
      "outputs": [
        {
          "output_type": "execute_result",
          "data": {
            "text/plain": [
              "<matplotlib.image.AxesImage at 0x7fc6a5aff460>"
            ]
          },
          "metadata": {},
          "execution_count": 71
        },
        {
          "output_type": "display_data",
          "data": {
            "text/plain": [
              "<Figure size 432x288 with 1 Axes>"
            ],
            "image/png": "[encoded data removed]"
          },
          "metadata": {
            "needs_background": "light"
          }
        }
      ]
    },
    {
      "cell_type": "code",
      "source": [
        "! cp ds_test_colored.npy drive/MyDrive/ds_test_colored.npy\n",
        "! cp ds_train_colored.npy drive/MyDrive/ds_train_colored.npy"
      ],
      "metadata": {
        "id": "lrVBzBWDyskR"
      },
      "execution_count": null,
      "outputs": []
    },
    {
      "cell_type": "code",
      "source": [],
      "metadata": {
        "id": "K1OuCZNJy1UN"
      },
      "execution_count": null,
      "outputs": []
    }
  ]
}